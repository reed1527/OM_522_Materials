{
 "cells": [
  {
   "cell_type": "markdown",
   "metadata": {},
   "source": [
    "This notebook is intended to serve as a starting point for the first group project. The following code block imports libraries that are used."
   ]
  },
  {
   "cell_type": "code",
   "execution_count": 1,
   "metadata": {},
   "outputs": [],
   "source": [
    "import matplotlib.pyplot as plt\n",
    "import numpy as np\n",
    "import os\n",
    "import pandas as pd\n",
    "import re\n",
    "import seaborn as sns"
   ]
  },
  {
   "cell_type": "markdown",
   "metadata": {},
   "source": [
    "The following code block demonstrates how you can iterate over the data files."
   ]
  },
  {
   "cell_type": "code",
   "execution_count": 2,
   "metadata": {},
   "outputs": [
    {
     "name": "stdout",
     "output_type": "stream",
     "text": [
      "Instance 1 (located at data\\instance_1.csv) has 44 jobs.\n",
      "Instance 10 (located at data\\instance_10.csv) has 78 jobs.\n",
      "Instance 11 (located at data\\instance_11.csv) has 22 jobs.\n",
      "Instance 12 (located at data\\instance_12.csv) has 19 jobs.\n",
      "Instance 13 (located at data\\instance_13.csv) has 78 jobs.\n",
      "Instance 14 (located at data\\instance_14.csv) has 53 jobs.\n",
      "Instance 15 (located at data\\instance_15.csv) has 85 jobs.\n",
      "Instance 16 (located at data\\instance_16.csv) has 26 jobs.\n",
      "Instance 17 (located at data\\instance_17.csv) has 32 jobs.\n",
      "Instance 18 (located at data\\instance_18.csv) has 66 jobs.\n",
      "Instance 19 (located at data\\instance_19.csv) has 14 jobs.\n",
      "Instance 2 (located at data\\instance_2.csv) has 46 jobs.\n",
      "Instance 20 (located at data\\instance_20.csv) has 60 jobs.\n",
      "Instance 21 (located at data\\instance_21.csv) has 9 jobs.\n",
      "Instance 22 (located at data\\instance_22.csv) has 24 jobs.\n",
      "Instance 23 (located at data\\instance_23.csv) has 54 jobs.\n",
      "Instance 24 (located at data\\instance_24.csv) has 96 jobs.\n",
      "Instance 25 (located at data\\instance_25.csv) has 87 jobs.\n",
      "Instance 26 (located at data\\instance_26.csv) has 34 jobs.\n",
      "Instance 27 (located at data\\instance_27.csv) has 45 jobs.\n",
      "Instance 28 (located at data\\instance_28.csv) has 74 jobs.\n",
      "Instance 29 (located at data\\instance_29.csv) has 87 jobs.\n",
      "Instance 3 (located at data\\instance_3.csv) has 57 jobs.\n",
      "Instance 30 (located at data\\instance_30.csv) has 66 jobs.\n",
      "Instance 4 (located at data\\instance_4.csv) has 96 jobs.\n",
      "Instance 5 (located at data\\instance_5.csv) has 26 jobs.\n",
      "Instance 6 (located at data\\instance_6.csv) has 89 jobs.\n",
      "Instance 7 (located at data\\instance_7.csv) has 12 jobs.\n",
      "Instance 8 (located at data\\instance_8.csv) has 87 jobs.\n",
      "Instance 9 (located at data\\instance_9.csv) has 5 jobs.\n"
     ]
    }
   ],
   "source": [
    "data_file_folder = 'data'\n",
    "data_files = [file for file in os.listdir(data_file_folder) if 'instance' in file]\n",
    "for file in data_files:\n",
    "    data_path = os.path.join(data_file_folder, file)\n",
    "    pattern = re.compile('instance_(\\d+).csv')\n",
    "    instance_number = re.findall(pattern, file)[0]\n",
    "    data = pd.read_csv(data_path)\n",
    "    print(f'Instance {instance_number} (located at {data_path}) has {len(data)} jobs.')"
   ]
  },
  {
   "cell_type": "markdown",
   "metadata": {},
   "source": [
    "The following code block specifies a particular data file and reads it into a Pandas DataFrame. The DataFrame is stored in the `data` object"
   ]
  },
  {
   "cell_type": "code",
   "execution_count": 3,
   "metadata": {},
   "outputs": [
    {
     "name": "stdout",
     "output_type": "stream",
     "text": [
      "Instance 9 has 5 jobs.\n",
      "The first five rows of the data follow\n",
      "     wj     pj  rj   dj\n",
      "Job                    \n",
      "1    50  21.32  81  155\n",
      "2    50  18.63  88  150\n",
      "3    13  15.02   4    6\n",
      "4    14  20.18  64  111\n",
      "5    22  17.07  53   77\n"
     ]
    }
   ],
   "source": [
    "current_file = data_files[29]\n",
    "data_path = os.path.join(data_file_folder, current_file)\n",
    "pattern = re.compile('instance_(\\d+).csv')\n",
    "instance_number = re.findall(pattern, current_file)[0]\n",
    "data = pd.read_csv(data_path)\n",
    "data = data.set_index('Job')\n",
    "print(f'Instance {instance_number} has {len(data)} jobs.')\n",
    "print('The first five rows of the data follow')\n",
    "print(data.head())"
   ]
  },
  {
   "cell_type": "markdown",
   "metadata": {},
   "source": [
    "The following code block defines the shortest processing time (SPT) dispatching rule function that we looked at in class."
   ]
  },
  {
   "cell_type": "code",
   "execution_count": 4,
   "metadata": {},
   "outputs": [],
   "source": [
    "def Apply_SPT_Vector(dataframe, start_time = 0, pj_column = 'pj', rj_column = 'rj'):\n",
    "    '''\n",
    "    This function computes the SPT schedule for a single machine instance with\n",
    "    release dates. The function takes a Pandas DataFrame as an argument and a \n",
    "    start time for the schedule. The index of the DataFrame should by the job \n",
    "    number/name. The DataFrame should include columns for the processing time \n",
    "    and release date for each job. By default, the function assumes these data \n",
    "    are in columns named 'pj' and 'rj', respectively. If this assumption is not true,\n",
    "    the correct columns names should be specified.\n",
    "    \n",
    "    The function returns a Pandas DataFrame with the schedule\n",
    "    -------------------------------------------------------------------------------------\n",
    "    '''\n",
    "\n",
    "    unscheduled_jobs = dataframe.index.tolist()\n",
    "    current_t = 0.0\n",
    "    schedule = []\n",
    "\n",
    "    while unscheduled_jobs:\n",
    "        mask = (dataframe['rj'] <= current_t) & (dataframe.index.isin(unscheduled_jobs))\n",
    "        if mask.sum() > 0:\n",
    "            min_index = dataframe.loc[mask,'pj'].idxmin()\n",
    "            finish_time = current_t + dataframe.loc[min_index,'pj']\n",
    "            schedule.append([min_index, \n",
    "                             current_t, \n",
    "                             finish_time])\n",
    "            unscheduled_jobs.remove(min_index)\n",
    "            current_t = finish_time\n",
    "        else:\n",
    "            current_t = dataframe.loc[unscheduled_jobs,'rj'].min()\n",
    "\n",
    "    return pd.DataFrame(schedule, columns = ['Job', 'Start', 'End']).set_index('Job')"
   ]
  },
  {
   "cell_type": "markdown",
   "metadata": {},
   "source": [
    "The following code block applies the function to the `data` object."
   ]
  },
  {
   "cell_type": "code",
   "execution_count": 5,
   "metadata": {},
   "outputs": [
    {
     "data": {
      "text/html": [
       "<div>\n",
       "<style scoped>\n",
       "    .dataframe tbody tr th:only-of-type {\n",
       "        vertical-align: middle;\n",
       "    }\n",
       "\n",
       "    .dataframe tbody tr th {\n",
       "        vertical-align: top;\n",
       "    }\n",
       "\n",
       "    .dataframe thead th {\n",
       "        text-align: right;\n",
       "    }\n",
       "</style>\n",
       "<table border=\"1\" class=\"dataframe\">\n",
       "  <thead>\n",
       "    <tr style=\"text-align: right;\">\n",
       "      <th></th>\n",
       "      <th>Start</th>\n",
       "      <th>End</th>\n",
       "    </tr>\n",
       "    <tr>\n",
       "      <th>Job</th>\n",
       "      <th></th>\n",
       "      <th></th>\n",
       "    </tr>\n",
       "  </thead>\n",
       "  <tbody>\n",
       "    <tr>\n",
       "      <th>3</th>\n",
       "      <td>4.00</td>\n",
       "      <td>19.02</td>\n",
       "    </tr>\n",
       "    <tr>\n",
       "      <th>5</th>\n",
       "      <td>53.00</td>\n",
       "      <td>70.07</td>\n",
       "    </tr>\n",
       "    <tr>\n",
       "      <th>4</th>\n",
       "      <td>70.07</td>\n",
       "      <td>90.25</td>\n",
       "    </tr>\n",
       "    <tr>\n",
       "      <th>2</th>\n",
       "      <td>90.25</td>\n",
       "      <td>108.88</td>\n",
       "    </tr>\n",
       "    <tr>\n",
       "      <th>1</th>\n",
       "      <td>108.88</td>\n",
       "      <td>130.20</td>\n",
       "    </tr>\n",
       "  </tbody>\n",
       "</table>\n",
       "</div>"
      ],
      "text/plain": [
       "      Start     End\n",
       "Job                \n",
       "3      4.00   19.02\n",
       "5     53.00   70.07\n",
       "4     70.07   90.25\n",
       "2     90.25  108.88\n",
       "1    108.88  130.20"
      ]
     },
     "execution_count": 5,
     "metadata": {},
     "output_type": "execute_result"
    }
   ],
   "source": [
    "Apply_SPT_Vector(data)"
   ]
  },
  {
   "cell_type": "markdown",
   "metadata": {},
   "source": [
    "The following code block defines a function that applies the longest processing time (LPT) dispatching rule. This rule schedules the available job, from the set of unscheduled jobs, with the longest processing time."
   ]
  },
  {
   "cell_type": "code",
   "execution_count": 6,
   "metadata": {},
   "outputs": [],
   "source": [
    "def Apply_LPT_Vector(dataframe, start_time = 0, pj_column = 'pj', rj_column = 'rj'):\n",
    "    '''\n",
    "    This function computes the LPT schedule for a single machine instance with\n",
    "    release dates. The function takes a Pandas DataFrame as an argument and a \n",
    "    start time for the schedule. The index of the DataFrame should by the job \n",
    "    number/name. The DataFrame should include columns for the processing time \n",
    "    and release date for each job. By default, the function assumes these data \n",
    "    are in columns named 'pj' and 'rj', respectively. If this assumption is not true,\n",
    "    the correct columns names should be specified.\n",
    "    \n",
    "    The function returns a Pandas DataFrame with the schedule\n",
    "    -------------------------------------------------------------------------------------\n",
    "    '''\n",
    "\n",
    "    unscheduled_jobs = dataframe.index.tolist()\n",
    "    current_t = 0.0\n",
    "    schedule = []\n",
    "\n",
    "    while unscheduled_jobs:\n",
    "        mask = (dataframe['rj'] <= current_t) & (dataframe.index.isin(unscheduled_jobs))\n",
    "        if mask.sum() > 0:\n",
    "            max_index = dataframe.loc[mask,'pj'].idxmax()\n",
    "            finish_time = current_t + dataframe.loc[max_index,'pj']\n",
    "            schedule.append([max_index, \n",
    "                             current_t, \n",
    "                             finish_time])\n",
    "            unscheduled_jobs.remove(max_index)\n",
    "            current_t = finish_time\n",
    "        else:\n",
    "            current_t = dataframe.loc[unscheduled_jobs,'rj'].min()\n",
    "\n",
    "    return pd.DataFrame(schedule, columns = ['Job', 'Start', 'End']).set_index('Job')"
   ]
  },
  {
   "cell_type": "markdown",
   "metadata": {},
   "source": [
    "The following code block applies the function to the `data` object."
   ]
  },
  {
   "cell_type": "code",
   "execution_count": 7,
   "metadata": {},
   "outputs": [
    {
     "data": {
      "text/html": [
       "<div>\n",
       "<style scoped>\n",
       "    .dataframe tbody tr th:only-of-type {\n",
       "        vertical-align: middle;\n",
       "    }\n",
       "\n",
       "    .dataframe tbody tr th {\n",
       "        vertical-align: top;\n",
       "    }\n",
       "\n",
       "    .dataframe thead th {\n",
       "        text-align: right;\n",
       "    }\n",
       "</style>\n",
       "<table border=\"1\" class=\"dataframe\">\n",
       "  <thead>\n",
       "    <tr style=\"text-align: right;\">\n",
       "      <th></th>\n",
       "      <th>Start</th>\n",
       "      <th>End</th>\n",
       "    </tr>\n",
       "    <tr>\n",
       "      <th>Job</th>\n",
       "      <th></th>\n",
       "      <th></th>\n",
       "    </tr>\n",
       "  </thead>\n",
       "  <tbody>\n",
       "    <tr>\n",
       "      <th>3</th>\n",
       "      <td>4.00</td>\n",
       "      <td>19.02</td>\n",
       "    </tr>\n",
       "    <tr>\n",
       "      <th>5</th>\n",
       "      <td>53.00</td>\n",
       "      <td>70.07</td>\n",
       "    </tr>\n",
       "    <tr>\n",
       "      <th>4</th>\n",
       "      <td>70.07</td>\n",
       "      <td>90.25</td>\n",
       "    </tr>\n",
       "    <tr>\n",
       "      <th>1</th>\n",
       "      <td>90.25</td>\n",
       "      <td>111.57</td>\n",
       "    </tr>\n",
       "    <tr>\n",
       "      <th>2</th>\n",
       "      <td>111.57</td>\n",
       "      <td>130.20</td>\n",
       "    </tr>\n",
       "  </tbody>\n",
       "</table>\n",
       "</div>"
      ],
      "text/plain": [
       "      Start     End\n",
       "Job                \n",
       "3      4.00   19.02\n",
       "5     53.00   70.07\n",
       "4     70.07   90.25\n",
       "1     90.25  111.57\n",
       "2    111.57  130.20"
      ]
     },
     "execution_count": 7,
     "metadata": {},
     "output_type": "execute_result"
    }
   ],
   "source": [
    "Apply_LPT_Vector(data)"
   ]
  },
  {
   "cell_type": "markdown",
   "metadata": {},
   "source": [
    "The following code block stores the LPT solution in an object named `schedule`."
   ]
  },
  {
   "cell_type": "code",
   "execution_count": 8,
   "metadata": {},
   "outputs": [
    {
     "data": {
      "text/html": [
       "<div>\n",
       "<style scoped>\n",
       "    .dataframe tbody tr th:only-of-type {\n",
       "        vertical-align: middle;\n",
       "    }\n",
       "\n",
       "    .dataframe tbody tr th {\n",
       "        vertical-align: top;\n",
       "    }\n",
       "\n",
       "    .dataframe thead th {\n",
       "        text-align: right;\n",
       "    }\n",
       "</style>\n",
       "<table border=\"1\" class=\"dataframe\">\n",
       "  <thead>\n",
       "    <tr style=\"text-align: right;\">\n",
       "      <th></th>\n",
       "      <th>Start</th>\n",
       "      <th>End</th>\n",
       "    </tr>\n",
       "    <tr>\n",
       "      <th>Job</th>\n",
       "      <th></th>\n",
       "      <th></th>\n",
       "    </tr>\n",
       "  </thead>\n",
       "  <tbody>\n",
       "    <tr>\n",
       "      <th>3</th>\n",
       "      <td>4.00</td>\n",
       "      <td>19.02</td>\n",
       "    </tr>\n",
       "    <tr>\n",
       "      <th>5</th>\n",
       "      <td>53.00</td>\n",
       "      <td>70.07</td>\n",
       "    </tr>\n",
       "    <tr>\n",
       "      <th>4</th>\n",
       "      <td>70.07</td>\n",
       "      <td>90.25</td>\n",
       "    </tr>\n",
       "    <tr>\n",
       "      <th>1</th>\n",
       "      <td>90.25</td>\n",
       "      <td>111.57</td>\n",
       "    </tr>\n",
       "    <tr>\n",
       "      <th>2</th>\n",
       "      <td>111.57</td>\n",
       "      <td>130.20</td>\n",
       "    </tr>\n",
       "  </tbody>\n",
       "</table>\n",
       "</div>"
      ],
      "text/plain": [
       "      Start     End\n",
       "Job                \n",
       "3      4.00   19.02\n",
       "5     53.00   70.07\n",
       "4     70.07   90.25\n",
       "1     90.25  111.57\n",
       "2    111.57  130.20"
      ]
     },
     "execution_count": 8,
     "metadata": {},
     "output_type": "execute_result"
    }
   ],
   "source": [
    "schedule = Apply_LPT_Vector(data)\n",
    "schedule"
   ]
  },
  {
   "cell_type": "markdown",
   "metadata": {},
   "source": [
    "The following code block computes the sum of the completion times for a schedule."
   ]
  },
  {
   "cell_type": "code",
   "execution_count": 9,
   "metadata": {},
   "outputs": [],
   "source": [
    "def Compute_Sum_of_Completion_Times(schedule, cj_column = 'End'):\n",
    "    '''\n",
    "    This function computes the sum of the completion times for a schedule provided\n",
    "    as a Pandas DataFrame. The index of the schedule DataFrame should by the job \n",
    "    number/name. The DataFrame should include a column with the completion time (cj)\n",
    "    for each job. By default, the function assumes the completion times are in a\n",
    "    column named 'End'. If this assumption is not true,\n",
    "    the correct columns names should be specified.\n",
    "    \n",
    "    The function returns the sum of the completion times\n",
    "    -------------------------------------------------------------------------------------\n",
    "    '''\n",
    "    return schedule[cj_column].sum()"
   ]
  },
  {
   "cell_type": "markdown",
   "metadata": {},
   "source": [
    "The following code block joins the `schedule` object with the `data` object, overwriting the `schedule` object."
   ]
  },
  {
   "cell_type": "code",
   "execution_count": 10,
   "metadata": {},
   "outputs": [
    {
     "data": {
      "text/html": [
       "<div>\n",
       "<style scoped>\n",
       "    .dataframe tbody tr th:only-of-type {\n",
       "        vertical-align: middle;\n",
       "    }\n",
       "\n",
       "    .dataframe tbody tr th {\n",
       "        vertical-align: top;\n",
       "    }\n",
       "\n",
       "    .dataframe thead th {\n",
       "        text-align: right;\n",
       "    }\n",
       "</style>\n",
       "<table border=\"1\" class=\"dataframe\">\n",
       "  <thead>\n",
       "    <tr style=\"text-align: right;\">\n",
       "      <th></th>\n",
       "      <th>wj</th>\n",
       "      <th>pj</th>\n",
       "      <th>rj</th>\n",
       "      <th>dj</th>\n",
       "      <th>Start</th>\n",
       "      <th>End</th>\n",
       "    </tr>\n",
       "    <tr>\n",
       "      <th>Job</th>\n",
       "      <th></th>\n",
       "      <th></th>\n",
       "      <th></th>\n",
       "      <th></th>\n",
       "      <th></th>\n",
       "      <th></th>\n",
       "    </tr>\n",
       "  </thead>\n",
       "  <tbody>\n",
       "    <tr>\n",
       "      <th>1</th>\n",
       "      <td>50</td>\n",
       "      <td>21.32</td>\n",
       "      <td>81</td>\n",
       "      <td>155</td>\n",
       "      <td>90.25</td>\n",
       "      <td>111.57</td>\n",
       "    </tr>\n",
       "    <tr>\n",
       "      <th>2</th>\n",
       "      <td>50</td>\n",
       "      <td>18.63</td>\n",
       "      <td>88</td>\n",
       "      <td>150</td>\n",
       "      <td>111.57</td>\n",
       "      <td>130.20</td>\n",
       "    </tr>\n",
       "    <tr>\n",
       "      <th>3</th>\n",
       "      <td>13</td>\n",
       "      <td>15.02</td>\n",
       "      <td>4</td>\n",
       "      <td>6</td>\n",
       "      <td>4.00</td>\n",
       "      <td>19.02</td>\n",
       "    </tr>\n",
       "    <tr>\n",
       "      <th>4</th>\n",
       "      <td>14</td>\n",
       "      <td>20.18</td>\n",
       "      <td>64</td>\n",
       "      <td>111</td>\n",
       "      <td>70.07</td>\n",
       "      <td>90.25</td>\n",
       "    </tr>\n",
       "    <tr>\n",
       "      <th>5</th>\n",
       "      <td>22</td>\n",
       "      <td>17.07</td>\n",
       "      <td>53</td>\n",
       "      <td>77</td>\n",
       "      <td>53.00</td>\n",
       "      <td>70.07</td>\n",
       "    </tr>\n",
       "  </tbody>\n",
       "</table>\n",
       "</div>"
      ],
      "text/plain": [
       "     wj     pj  rj   dj   Start     End\n",
       "Job                                    \n",
       "1    50  21.32  81  155   90.25  111.57\n",
       "2    50  18.63  88  150  111.57  130.20\n",
       "3    13  15.02   4    6    4.00   19.02\n",
       "4    14  20.18  64  111   70.07   90.25\n",
       "5    22  17.07  53   77   53.00   70.07"
      ]
     },
     "execution_count": 10,
     "metadata": {},
     "output_type": "execute_result"
    }
   ],
   "source": [
    "schedule = data.join(schedule)\n",
    "schedule"
   ]
  },
  {
   "cell_type": "markdown",
   "metadata": {},
   "source": [
    "We use the modified `schedule` object to test the `Compute_Sum_of_Completion_Times` function."
   ]
  },
  {
   "cell_type": "code",
   "execution_count": 11,
   "metadata": {},
   "outputs": [
    {
     "data": {
      "text/plain": [
       "421.10999999999996"
      ]
     },
     "execution_count": 11,
     "metadata": {},
     "output_type": "execute_result"
    }
   ],
   "source": [
    "Compute_Sum_of_Completion_Times(schedule)"
   ]
  },
  {
   "cell_type": "markdown",
   "metadata": {},
   "source": [
    "The following code block computes the maximum lateness for a schedule."
   ]
  },
  {
   "cell_type": "code",
   "execution_count": 12,
   "metadata": {},
   "outputs": [],
   "source": [
    "def Compute_Maximum_Lateness(schedule, cj_column = 'End', dj_column = 'dj'):\n",
    "    '''\n",
    "    This function computes the maximum lateness for a schedule provided\n",
    "    as a Pandas DataFrame. The index of the schedule DataFrame should by the job \n",
    "    number/name. The DataFrame should include a column with the completion time\n",
    "    for each job. By default, the function assumes the completion times are in a\n",
    "    column named 'End'. If this assumption is not true,\n",
    "    the correct columns names should be specified.\n",
    "    \n",
    "    The function returns the sum of the completion times\n",
    "    -------------------------------------------------------------------------------------\n",
    "    '''\n",
    "    return (schedule[cj_column] - schedule[dj_column]).max()"
   ]
  },
  {
   "cell_type": "markdown",
   "metadata": {},
   "source": [
    "We use the modified `schedule` object to test the `Compute_Maximum_Lateness` function."
   ]
  },
  {
   "cell_type": "code",
   "execution_count": 13,
   "metadata": {},
   "outputs": [
    {
     "data": {
      "text/plain": [
       "13.02"
      ]
     },
     "execution_count": 13,
     "metadata": {},
     "output_type": "execute_result"
    }
   ],
   "source": [
    "Compute_Maximum_Lateness(schedule)"
   ]
  },
  {
   "cell_type": "markdown",
   "metadata": {},
   "source": [
    "The following code block uses the previously defined functions to define a general dispatching rule function. The function allows a user to specify a valid dispatching rule and the job data. The function returns a tuple containg the sum of completion times and maximum lateness associated with applying the specified dispatching rule to the data."
   ]
  },
  {
   "cell_type": "code",
   "execution_count": 14,
   "metadata": {},
   "outputs": [],
   "source": [
    "def Apply_Basic_Dispatch_Rule(data, \n",
    "                              rule = 'SPT', \n",
    "                              pj_column = 'pj', \n",
    "                              rj_column = 'rj'):\n",
    "    \n",
    "    schedule = None\n",
    "    if rule == 'SPT':\n",
    "        schedule = Apply_SPT_Vector(data, pj_column = pj_column, rj_column = rj_column)\n",
    "    elif rule == 'LPT':\n",
    "        schedule = Apply_LPT_Vector(data, pj_column = pj_column, rj_column = rj_column)\n",
    "    else:\n",
    "        print('Invalid rule specified!!!')\n",
    "\n",
    "    if schedule  is not None:\n",
    "        schedule = data.join(schedule)\n",
    "        sum_Cj = Compute_Sum_of_Completion_Times(schedule)\n",
    "        L_max = Compute_Maximum_Lateness(schedule)\n",
    "        \n",
    "        return sum_Cj, L_max"
   ]
  },
  {
   "cell_type": "markdown",
   "metadata": {},
   "source": [
    "The following code block demonstrates the functions use."
   ]
  },
  {
   "cell_type": "code",
   "execution_count": 15,
   "metadata": {},
   "outputs": [
    {
     "data": {
      "text/plain": [
       "(418.41999999999996, 13.02)"
      ]
     },
     "execution_count": 15,
     "metadata": {},
     "output_type": "execute_result"
    }
   ],
   "source": [
    "Apply_Basic_Dispatch_Rule(data)"
   ]
  },
  {
   "cell_type": "markdown",
   "metadata": {},
   "source": [
    "The following code block shows how we can save the performance measures."
   ]
  },
  {
   "cell_type": "code",
   "execution_count": 16,
   "metadata": {},
   "outputs": [],
   "source": [
    "sum_Cj, L_max = Apply_Basic_Dispatch_Rule(data)"
   ]
  },
  {
   "cell_type": "markdown",
   "metadata": {},
   "source": [
    "The following code block loops over all of the data files, applying both valid dispatching rules to each instance and storing the associated performance measures in a list. The list is used to construct a Pandas DataFrame object named `all_results`."
   ]
  },
  {
   "cell_type": "code",
   "execution_count": 17,
   "metadata": {},
   "outputs": [],
   "source": [
    "data_file_folder = 'data'\n",
    "data_files = [file for file in os.listdir(data_file_folder) if 'instance' in file]\n",
    "\n",
    "all_results = []\n",
    "for file in data_files:\n",
    "    data_path = os.path.join(data_file_folder, file)\n",
    "    pattern = re.compile('instance_(\\d+).csv')\n",
    "    instance_number = int(re.findall(pattern, file)[0])\n",
    "    data = pd.read_csv(data_path)\n",
    "    jobs = len(data)\n",
    "    for current_rule in ['SPT', 'LPT']:\n",
    "        sum_Cj, L_max = Apply_Basic_Dispatch_Rule(data, rule = current_rule)\n",
    "        all_results.append([instance_number, jobs, current_rule, sum_Cj, L_max])\n",
    "all_results = pd.DataFrame(all_results, columns = ['Instance', 'Jobs', 'Rule', 'Sum_Cj', 'Lmax'])\n",
    "all_results = all_results.sort_values(by = ['Instance', 'Rule'])"
   ]
  },
  {
   "cell_type": "markdown",
   "metadata": {},
   "source": [
    "The following code block shows how we can use the experimental results to make general observations regarding the performance of the dispatching rules."
   ]
  },
  {
   "cell_type": "code",
   "execution_count": 18,
   "metadata": {},
   "outputs": [
    {
     "data": {
      "image/png": "[encoded data removed]",
      "text/plain": [
       "<Figure size 720x432 with 1 Axes>"
      ]
     },
     "metadata": {
      "needs_background": "light"
     },
     "output_type": "display_data"
    }
   ],
   "source": [
    "grouped = all_results.groupby('Rule')[['Sum_Cj', 'Lmax']].mean()\n",
    "grouped = grouped/grouped.max()\n",
    "grouped = grouped.stack().reset_index().rename(columns={'level_1':'Metric', 0: 'Value'})\n",
    "\n",
    "fig, ax = plt.subplots(1,1,figsize = (10, 6))\n",
    "\n",
    "sns.barplot(x=\"Metric\", \n",
    "            y=\"Value\", \n",
    "            hue=\"Rule\", \n",
    "            data=grouped,\n",
    "            edgecolor = 'k'\n",
    "           )\n",
    "ax.set_ylabel('Value Relative to Maximum')\n",
    "plt.show()"
   ]
  }
 ],
 "metadata": {
  "kernelspec": {
   "display_name": "Python 3",
   "language": "python",
   "name": "python3"
  },
  "language_info": {
   "codemirror_mode": {
    "name": "ipython",
    "version": 3
   },
   "file_extension": ".py",
   "mimetype": "text/x-python",
   "name": "python",
   "nbconvert_exporter": "python",
   "pygments_lexer": "ipython3",
   "version": "3.7.3"
  }
 },
 "nbformat": 4,
 "nbformat_minor": 2
}
