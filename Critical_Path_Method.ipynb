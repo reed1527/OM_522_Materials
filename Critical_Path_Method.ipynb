{
 "cells": [
  {
   "cell_type": "markdown",
   "metadata": {},
   "source": [
    "# Critical Path Method\n",
    "Prepared by: Nickolas Freeman, Ph.D.\n",
    "\n",
    "This notebook implements the critical path method that is commonly used for project scheduling when there are no resource contraints limiting the simultaneous processing of tasks. From https://en.wikipedia.org/wiki/Critical_path_method (accessed 9/26/2019):\n",
    "\n",
    "> The critical path method (CPM), or critical path analysis (CPA), is an algorithm for scheduling a set of project activities. A critical path is determined by identifying the longest stretch [sequence] of dependent activities and measuring the time required to complete them from start to finish [makespan].\n",
    "\n",
    "The follwoing code block imports several libraries that we will use."
   ]
  },
  {
   "cell_type": "code",
   "execution_count": 1,
   "metadata": {},
   "outputs": [],
   "source": [
    "import matplotlib.pyplot as plt\n",
    "import networkx as nx\n",
    "import numpy as np\n",
    "import pandas as pd\n",
    "import warnings"
   ]
  },
  {
   "cell_type": "markdown",
   "metadata": {},
   "source": [
    "The following code block reads in data for an 8-task project that we will use to demonstrate the method and stores the data in a Pandas `DataFrame` object that we call data. The task is used as the index. The data includes columns specifying the processing time for each task, and comma-separated sequences of predecessor and successor tasks. We add a '-' in the appropriate column for tasks that have no predecessors or successors."
   ]
  },
  {
   "cell_type": "code",
   "execution_count": 2,
   "metadata": {},
   "outputs": [
    {
     "data": {
      "text/html": [
       "<div>\n",
       "<style scoped>\n",
       "    .dataframe tbody tr th:only-of-type {\n",
       "        vertical-align: middle;\n",
       "    }\n",
       "\n",
       "    .dataframe tbody tr th {\n",
       "        vertical-align: top;\n",
       "    }\n",
       "\n",
       "    .dataframe thead th {\n",
       "        text-align: right;\n",
       "    }\n",
       "</style>\n",
       "<table border=\"1\" class=\"dataframe\">\n",
       "  <thead>\n",
       "    <tr style=\"text-align: right;\">\n",
       "      <th></th>\n",
       "      <th>pj</th>\n",
       "      <th>Predecessors</th>\n",
       "      <th>Successors</th>\n",
       "    </tr>\n",
       "    <tr>\n",
       "      <th>Task</th>\n",
       "      <th></th>\n",
       "      <th></th>\n",
       "      <th></th>\n",
       "    </tr>\n",
       "  </thead>\n",
       "  <tbody>\n",
       "    <tr>\n",
       "      <th>1</th>\n",
       "      <td>4</td>\n",
       "      <td>-</td>\n",
       "      <td>4</td>\n",
       "    </tr>\n",
       "    <tr>\n",
       "      <th>2</th>\n",
       "      <td>6</td>\n",
       "      <td>-</td>\n",
       "      <td>5</td>\n",
       "    </tr>\n",
       "    <tr>\n",
       "      <th>3</th>\n",
       "      <td>10</td>\n",
       "      <td>-</td>\n",
       "      <td>6,7</td>\n",
       "    </tr>\n",
       "    <tr>\n",
       "      <th>4</th>\n",
       "      <td>12</td>\n",
       "      <td>1</td>\n",
       "      <td>6,7</td>\n",
       "    </tr>\n",
       "    <tr>\n",
       "      <th>5</th>\n",
       "      <td>10</td>\n",
       "      <td>2</td>\n",
       "      <td>6</td>\n",
       "    </tr>\n",
       "    <tr>\n",
       "      <th>6</th>\n",
       "      <td>2</td>\n",
       "      <td>3,4,5</td>\n",
       "      <td>8</td>\n",
       "    </tr>\n",
       "    <tr>\n",
       "      <th>7</th>\n",
       "      <td>4</td>\n",
       "      <td>3,4</td>\n",
       "      <td>8</td>\n",
       "    </tr>\n",
       "    <tr>\n",
       "      <th>8</th>\n",
       "      <td>2</td>\n",
       "      <td>6,7</td>\n",
       "      <td>-</td>\n",
       "    </tr>\n",
       "  </tbody>\n",
       "</table>\n",
       "</div>"
      ],
      "text/plain": [
       "      pj Predecessors Successors\n",
       "Task                            \n",
       "1      4            -          4\n",
       "2      6            -          5\n",
       "3     10            -        6,7\n",
       "4     12            1        6,7\n",
       "5     10            2          6\n",
       "6      2        3,4,5          8\n",
       "7      4          3,4          8\n",
       "8      2          6,7          -"
      ]
     },
     "execution_count": 2,
     "metadata": {},
     "output_type": "execute_result"
    }
   ],
   "source": [
    "data = pd.read_excel('CPM_Example1.xlsx')\n",
    "data = data.set_index('Task')\n",
    "data = data.fillna('-')\n",
    "data"
   ]
  },
  {
   "cell_type": "markdown",
   "metadata": {},
   "source": [
    "The following code block converts the `data` object to a dictionary stored as `data_dict`. Then, we iterate over the dictionary converting the predecessor and successor columns to:\n",
    "\n",
    "- an empty list if there are no predecessors or successors,\n",
    "- a list including a single item if there is only one predecessor or successor, or\n",
    "- a list of multiple items if there are multiple predecessors or successors.\n",
    "\n",
    "**Note that we are requiring the keys of the `data_dict` object to be strings. This will make sure that our code will handle both numeric and text representations for task names.**"
   ]
  },
  {
   "cell_type": "code",
   "execution_count": 3,
   "metadata": {},
   "outputs": [
    {
     "data": {
      "text/plain": [
       "{'1': {'pj': 4, 'Predecessors': [], 'Successors': ['4']},\n",
       " '2': {'pj': 6, 'Predecessors': [], 'Successors': ['5']},\n",
       " '3': {'pj': 10, 'Predecessors': [], 'Successors': ['6', '7']},\n",
       " '4': {'pj': 12, 'Predecessors': ['1'], 'Successors': ['6', '7']},\n",
       " '5': {'pj': 10, 'Predecessors': ['2'], 'Successors': ['6']},\n",
       " '6': {'pj': 2, 'Predecessors': ['3', '4', '5'], 'Successors': ['8']},\n",
       " '7': {'pj': 4, 'Predecessors': ['3', '4'], 'Successors': ['8']},\n",
       " '8': {'pj': 2, 'Predecessors': ['6', '7'], 'Successors': []}}"
      ]
     },
     "execution_count": 3,
     "metadata": {},
     "output_type": "execute_result"
    }
   ],
   "source": [
    "# convert the DataFrame to a dictionary, with keys\n",
    "# populated using the DataFrame index\n",
    "data_dict = data.to_dict(orient= 'index')\n",
    "\n",
    "# for each task represented by the dictionary keys\n",
    "for task in data_dict.keys():\n",
    "    \n",
    "    # for both the predecessors and successors\n",
    "    for node_group in ['Predecessors','Successors']:\n",
    "        \n",
    "        # if there are no predecessors or successors\n",
    "        if data_dict[task][node_group] == '-':\n",
    "            \n",
    "            # update to an empty list\n",
    "            data_dict[task][node_group] = []\n",
    "            \n",
    "        # else if there is a single predecessor or successor\n",
    "        elif len(str(data_dict[task][node_group]).split(',')) == 1:\n",
    "            \n",
    "            # update to a list with the single predecessor or successor\n",
    "            data_dict[task][node_group] = [str(data_dict[task][node_group])]\n",
    "        \n",
    "        # else if there are more than one predecessors or successors\n",
    "        else:\n",
    "            \n",
    "            # split on the commas to create a list with multiple items\n",
    "            data_dict[task][node_group] = [str(task) for task in data_dict[task][node_group].split(',')]\n",
    "            \n",
    "# convert the dictionary keys to strings\n",
    "data_dict = {str(key): value for key, value in data_dict.items()}\n",
    "\n",
    "data_dict"
   ]
  },
  {
   "cell_type": "markdown",
   "metadata": {},
   "source": [
    "The following code block shows how we can use the `netwrokx` package to visualize the project dependencies."
   ]
  },
  {
   "cell_type": "code",
   "execution_count": 4,
   "metadata": {},
   "outputs": [
    {
     "data": {
      "image/png": "[encoded data removed]",
      "text/plain": [
       "<Figure size 432x288 with 1 Axes>"
      ]
     },
     "metadata": {},
     "output_type": "display_data"
    }
   ],
   "source": [
    "# create an empty directed network object\n",
    "G = nx.DiGraph()\n",
    "\n",
    "# for each task represented by the dictionary keys\n",
    "for task in data_dict.keys():\n",
    "    \n",
    "    # add a node to the graph for the current task\n",
    "    G.add_node(task)\n",
    "\n",
    "# for each task represented by the dictionary keys\n",
    "for task in data_dict.keys():\n",
    "    \n",
    "    # if the task has successors\n",
    "    if len(data_dict[task]['Successors']) > 0:\n",
    "        \n",
    "        # for each sucessor\n",
    "        for successor in data_dict[task]['Successors']:\n",
    "            \n",
    "            # add an edge from the task to the sucessor\n",
    "            G.add_edge(task, successor)    \n",
    "\n",
    "# catch warnings from the networkx package\n",
    "with warnings.catch_warnings():\n",
    "    warnings.simplefilter(\"ignore\")\n",
    "    \n",
    "    # draw the graph\n",
    "    nx.draw_spring(G, with_labels = True)"
   ]
  },
  {
   "cell_type": "markdown",
   "metadata": {},
   "source": [
    "The critical path method conducts two passes over the project network to identify activities that cannot be delayed with extending the total time required to complete the project. The *forward pass* is used to compute early start (ES) and early finish (EF) times for each task. The *backward pass* is used to compute late start (LS) and late finish (LF) times for each task. For a particular task, the difference (LS - ES) or (LF - EF) gives a measure of how much *float* is associated with the task. This float measure is equivalent to slack and gives an idea of how many time units a task can be delayed without extending the project. \n",
    "\n",
    "We will now start the forward pass. The first step will be to calculate the early start and early finish times for all tasks that have no predecessors. Such tasks can start immediately. Assuming that the project will start at time 0, the following code block updates the `data_dict` object to include the early start and early finish times for jobs without predecessors."
   ]
  },
  {
   "cell_type": "code",
   "execution_count": 5,
   "metadata": {},
   "outputs": [
    {
     "data": {
      "text/plain": [
       "{'1': {'pj': 4, 'Predecessors': [], 'Successors': ['4'], 'ES': 0, 'EF': 4},\n",
       " '2': {'pj': 6, 'Predecessors': [], 'Successors': ['5']},\n",
       " '3': {'pj': 10,\n",
       "  'Predecessors': [],\n",
       "  'Successors': ['6', '7'],\n",
       "  'ES': 0,\n",
       "  'EF': 10},\n",
       " '4': {'pj': 12, 'Predecessors': ['1'], 'Successors': ['6', '7']},\n",
       " '5': {'pj': 10, 'Predecessors': ['2'], 'Successors': ['6']},\n",
       " '6': {'pj': 2, 'Predecessors': ['3', '4', '5'], 'Successors': ['8']},\n",
       " '7': {'pj': 4, 'Predecessors': ['3', '4'], 'Successors': ['8']},\n",
       " '8': {'pj': 2, 'Predecessors': ['6', '7'], 'Successors': []}}"
      ]
     },
     "execution_count": 5,
     "metadata": {},
     "output_type": "execute_result"
    }
   ],
   "source": [
    "# specify the start time\n",
    "start_time = 0\n",
    "\n",
    "# initialize a list to store the remaining tasks\n",
    "# to be handled during the forward pass\n",
    "FP_Remaining_Tasks = list(data_dict.keys())\n",
    "\n",
    "# for each task in the remaining tasks\n",
    "for task in FP_Remaining_Tasks:\n",
    "    \n",
    "    # if the current task has no predecessors\n",
    "    if data_dict[task]['Predecessors'] == []:\n",
    "        \n",
    "        # set the early start time equal to the start time\n",
    "        data_dict[task]['ES'] = start_time\n",
    "        \n",
    "        # set the early finish time equal to the early start time\n",
    "        # plus the processing time\n",
    "        data_dict[task]['EF'] = start_time + data_dict[task]['pj']\n",
    "        \n",
    "        # remove the task from the list of remaing tasks\n",
    "        FP_Remaining_Tasks.remove(task)\n",
    "\n",
    "data_dict"
   ]
  },
  {
   "cell_type": "markdown",
   "metadata": {},
   "source": [
    "The following code block iterates over the remaining tasks, first checking whether all of the predecessors for a current task are completed. If this is true, the algorithm then uses the **maximum** early finish time of selected task's predecessors to specify the early start for the selected task."
   ]
  },
  {
   "cell_type": "code",
   "execution_count": 6,
   "metadata": {
    "scrolled": true
   },
   "outputs": [],
   "source": [
    "# while there are still tasks to process\n",
    "# in the forward pass\n",
    "while len(FP_Remaining_Tasks) > 0:\n",
    "    \n",
    "    # for each remaining task\n",
    "    for current_task in FP_Remaining_Tasks:\n",
    "        \n",
    "        # if the current task has predecessors\n",
    "        if len(set(FP_Remaining_Tasks).intersection(set(data_dict[current_task]['Predecessors']))) == 0:\n",
    "            \n",
    "            # remove the current task from the remaing tasks\n",
    "            FP_Remaining_Tasks.remove(current_task)\n",
    "            \n",
    "            # exit the for loop, with the current task still specified!\n",
    "            break\n",
    "    \n",
    "    # get the predecessors of the current task\n",
    "    predecessors = data_dict[current_task]['Predecessors']\n",
    "    \n",
    "    # initialize a variable to store the maximum early\n",
    "    # finish time of the current task's predecessors\n",
    "    max_ef = 0\n",
    "    \n",
    "    # for each predecessor\n",
    "    for predecessor in predecessors:\n",
    "        \n",
    "        # if the early finish time of the predecessor is\n",
    "        # larger than the maximum early finish time variable\n",
    "        if (data_dict[predecessor]['EF'] > max_ef):\n",
    "            \n",
    "            # update the maximum early finish time variable\n",
    "            max_ef = data_dict[predecessor]['EF']\n",
    "    \n",
    "    # set the early start time for the current task to\n",
    "    # the value of the maxiumum early finish time variable\n",
    "    data_dict[current_task]['ES'] = max_ef\n",
    "    \n",
    "    # calculate the current task's early finish time\n",
    "    data_dict[current_task]['EF'] = data_dict[current_task]['ES'] + data_dict[current_task]['pj']"
   ]
  },
  {
   "cell_type": "markdown",
   "metadata": {},
   "source": [
    "This completes the forward pass. The following code block prints the updated `data_dict` object to the screen."
   ]
  },
  {
   "cell_type": "code",
   "execution_count": 7,
   "metadata": {},
   "outputs": [
    {
     "data": {
      "text/plain": [
       "{'1': {'pj': 4, 'Predecessors': [], 'Successors': ['4'], 'ES': 0, 'EF': 4},\n",
       " '2': {'pj': 6, 'Predecessors': [], 'Successors': ['5'], 'ES': 0, 'EF': 6},\n",
       " '3': {'pj': 10,\n",
       "  'Predecessors': [],\n",
       "  'Successors': ['6', '7'],\n",
       "  'ES': 0,\n",
       "  'EF': 10},\n",
       " '4': {'pj': 12,\n",
       "  'Predecessors': ['1'],\n",
       "  'Successors': ['6', '7'],\n",
       "  'ES': 4,\n",
       "  'EF': 16},\n",
       " '5': {'pj': 10,\n",
       "  'Predecessors': ['2'],\n",
       "  'Successors': ['6'],\n",
       "  'ES': 6,\n",
       "  'EF': 16},\n",
       " '6': {'pj': 2,\n",
       "  'Predecessors': ['3', '4', '5'],\n",
       "  'Successors': ['8'],\n",
       "  'ES': 16,\n",
       "  'EF': 18},\n",
       " '7': {'pj': 4,\n",
       "  'Predecessors': ['3', '4'],\n",
       "  'Successors': ['8'],\n",
       "  'ES': 16,\n",
       "  'EF': 20},\n",
       " '8': {'pj': 2,\n",
       "  'Predecessors': ['6', '7'],\n",
       "  'Successors': [],\n",
       "  'ES': 20,\n",
       "  'EF': 22}}"
      ]
     },
     "execution_count": 7,
     "metadata": {},
     "output_type": "execute_result"
    }
   ],
   "source": [
    "data_dict"
   ]
  },
  {
   "cell_type": "markdown",
   "metadata": {},
   "source": [
    "We will now start the backward pass. The first step will be to calculate the late finish and late start times for all tasks that have no successors. The late finish time for these tasks is set to the maximum of the early finish times found during the forward pass, i.e., the makespan of the project. The following code block updates the `data_dict` object to include the late finish and late start times for jobs without predecessors."
   ]
  },
  {
   "cell_type": "code",
   "execution_count": 8,
   "metadata": {},
   "outputs": [
    {
     "data": {
      "text/plain": [
       "{'1': {'pj': 4, 'Predecessors': [], 'Successors': ['4'], 'ES': 0, 'EF': 4},\n",
       " '2': {'pj': 6, 'Predecessors': [], 'Successors': ['5'], 'ES': 0, 'EF': 6},\n",
       " '3': {'pj': 10,\n",
       "  'Predecessors': [],\n",
       "  'Successors': ['6', '7'],\n",
       "  'ES': 0,\n",
       "  'EF': 10},\n",
       " '4': {'pj': 12,\n",
       "  'Predecessors': ['1'],\n",
       "  'Successors': ['6', '7'],\n",
       "  'ES': 4,\n",
       "  'EF': 16},\n",
       " '5': {'pj': 10,\n",
       "  'Predecessors': ['2'],\n",
       "  'Successors': ['6'],\n",
       "  'ES': 6,\n",
       "  'EF': 16},\n",
       " '6': {'pj': 2,\n",
       "  'Predecessors': ['3', '4', '5'],\n",
       "  'Successors': ['8'],\n",
       "  'ES': 16,\n",
       "  'EF': 18},\n",
       " '7': {'pj': 4,\n",
       "  'Predecessors': ['3', '4'],\n",
       "  'Successors': ['8'],\n",
       "  'ES': 16,\n",
       "  'EF': 20},\n",
       " '8': {'pj': 2,\n",
       "  'Predecessors': ['6', '7'],\n",
       "  'Successors': [],\n",
       "  'ES': 20,\n",
       "  'EF': 22,\n",
       "  'LF': 22,\n",
       "  'LS': 20}}"
      ]
     },
     "execution_count": 8,
     "metadata": {},
     "output_type": "execute_result"
    }
   ],
   "source": [
    "# initialize a list to store the remaining tasks\n",
    "# to be handled during the forward pass\n",
    "BP_Remaining_Tasks = list(data_dict.keys())\n",
    "\n",
    "# initialize a variable to store the maximum early\n",
    "# finish time of all tasks\n",
    "max_ef = 0\n",
    "\n",
    "# for each task in the remaining tasks\n",
    "for task in BP_Remaining_Tasks:\n",
    "    \n",
    "    # if the early finish time of the predecessor is\n",
    "    # larger than the maximum early finish time variable \n",
    "    if data_dict[task]['EF'] > max_ef:\n",
    "        \n",
    "        # update the value of the maximum early finish time variable \n",
    "        max_ef = data_dict[task]['EF']\n",
    "\n",
    "# for each task in the remaining tasks\n",
    "for task in BP_Remaining_Tasks:\n",
    "    \n",
    "    # if the current task has no sucessors\n",
    "    if data_dict[task]['Successors'] == []:\n",
    "        \n",
    "        # set the late finish time equal to the value of \n",
    "        # the maximum early finish time variable\n",
    "        data_dict[task]['LF'] = max_ef\n",
    "        \n",
    "        # set the late start time equal to the late finish time\n",
    "        # minus the processing time\n",
    "        data_dict[task]['LS'] = max_ef - data_dict[task]['pj']\n",
    "        \n",
    "        # remove the task from the list of remaing tasks\n",
    "        BP_Remaining_Tasks.remove(task)\n",
    "\n",
    "data_dict"
   ]
  },
  {
   "cell_type": "markdown",
   "metadata": {},
   "source": [
    "The following code block iterates over the remaining tasks, first checking whether all of the sucessessors for a current task are completed. If this is true, the algorithm then uses the **minimum** late start time of the selected task's successors to specify the late finish time for the selected task."
   ]
  },
  {
   "cell_type": "code",
   "execution_count": 9,
   "metadata": {},
   "outputs": [],
   "source": [
    "# while there are still tasks to process\n",
    "# in the backward pass\n",
    "while len(BP_Remaining_Tasks) > 0:\n",
    "    \n",
    "    # for each remaining task\n",
    "    for current_task in BP_Remaining_Tasks:\n",
    "        \n",
    "        # if the current task has successors\n",
    "        if len(set(BP_Remaining_Tasks).intersection(set(data_dict[current_task]['Successors']))) == 0:\n",
    "            \n",
    "            # remove the current task from the remaing tasks\n",
    "            BP_Remaining_Tasks.remove(current_task)\n",
    "            \n",
    "            # exit the for loop, with the current task still specified!\n",
    "            break\n",
    "    \n",
    "    # get the successors of the current task\n",
    "    successors = data_dict[current_task]['Successors']\n",
    "    \n",
    "    # initialize a variable to store the minimum late\n",
    "    # start time of the current task's successors.\n",
    "    # Set the variable to infinity\n",
    "    min_ls = np.inf\n",
    "    \n",
    "    # for each sucessor\n",
    "    for successor in successors:\n",
    "        \n",
    "        # if the late start time of the successor is\n",
    "        # less than the minimum late start time variable\n",
    "        if (data_dict[successor]['LS'] < min_ls):\n",
    "            \n",
    "            # update the maximum early finish time variable\n",
    "            min_ls = data_dict[successor]['LS']\n",
    "            \n",
    "    # set the late finish time for the current task to\n",
    "    # the value of the minimum late start time variable\n",
    "    data_dict[current_task]['LF'] = min_ls\n",
    "    \n",
    "    # calculate the current task's late start time\n",
    "    data_dict[current_task]['LS'] = data_dict[current_task]['LF'] - data_dict[current_task]['pj']"
   ]
  },
  {
   "cell_type": "markdown",
   "metadata": {},
   "source": [
    "This completes the backward pass. The following code block prints the updated `data_dict` object to the screen."
   ]
  },
  {
   "cell_type": "code",
   "execution_count": 10,
   "metadata": {},
   "outputs": [
    {
     "data": {
      "text/plain": [
       "{'1': {'pj': 4,\n",
       "  'Predecessors': [],\n",
       "  'Successors': ['4'],\n",
       "  'ES': 0,\n",
       "  'EF': 4,\n",
       "  'LF': 4,\n",
       "  'LS': 0},\n",
       " '2': {'pj': 6,\n",
       "  'Predecessors': [],\n",
       "  'Successors': ['5'],\n",
       "  'ES': 0,\n",
       "  'EF': 6,\n",
       "  'LF': 8,\n",
       "  'LS': 2},\n",
       " '3': {'pj': 10,\n",
       "  'Predecessors': [],\n",
       "  'Successors': ['6', '7'],\n",
       "  'ES': 0,\n",
       "  'EF': 10,\n",
       "  'LF': 16,\n",
       "  'LS': 6},\n",
       " '4': {'pj': 12,\n",
       "  'Predecessors': ['1'],\n",
       "  'Successors': ['6', '7'],\n",
       "  'ES': 4,\n",
       "  'EF': 16,\n",
       "  'LF': 16,\n",
       "  'LS': 4},\n",
       " '5': {'pj': 10,\n",
       "  'Predecessors': ['2'],\n",
       "  'Successors': ['6'],\n",
       "  'ES': 6,\n",
       "  'EF': 16,\n",
       "  'LF': 18,\n",
       "  'LS': 8},\n",
       " '6': {'pj': 2,\n",
       "  'Predecessors': ['3', '4', '5'],\n",
       "  'Successors': ['8'],\n",
       "  'ES': 16,\n",
       "  'EF': 18,\n",
       "  'LF': 20,\n",
       "  'LS': 18},\n",
       " '7': {'pj': 4,\n",
       "  'Predecessors': ['3', '4'],\n",
       "  'Successors': ['8'],\n",
       "  'ES': 16,\n",
       "  'EF': 20,\n",
       "  'LF': 20,\n",
       "  'LS': 16},\n",
       " '8': {'pj': 2,\n",
       "  'Predecessors': ['6', '7'],\n",
       "  'Successors': [],\n",
       "  'ES': 20,\n",
       "  'EF': 22,\n",
       "  'LF': 22,\n",
       "  'LS': 20}}"
      ]
     },
     "execution_count": 10,
     "metadata": {},
     "output_type": "execute_result"
    }
   ],
   "source": [
    "data_dict"
   ]
  },
  {
   "cell_type": "markdown",
   "metadata": {},
   "source": [
    "The following code block computes and plots the critical path."
   ]
  },
  {
   "cell_type": "code",
   "execution_count": 11,
   "metadata": {},
   "outputs": [
    {
     "name": "stdout",
     "output_type": "stream",
     "text": [
      "Task 1 is on the critical path\n",
      "Task 4 is on the critical path\n",
      "Task 7 is on the critical path\n",
      "Task 8 is on the critical path\n",
      "The length of the critical path is 22\n"
     ]
    },
    {
     "data": {
      "image/png": "[encoded data removed]",
      "text/plain": [
       "<Figure size 432x288 with 1 Axes>"
      ]
     },
     "metadata": {},
     "output_type": "display_data"
    }
   ],
   "source": [
    "color_map = []\n",
    "positions = {}\n",
    "\n",
    "np.random.seed(0)\n",
    "for node in G.nodes:\n",
    "    positions[node] = np.array([data_dict[node]['ES'], np.random.uniform(low=-1.0, high=1.0)])\n",
    "    if data_dict[node]['ES'] == data_dict[node]['LS']:\n",
    "        color_map.append('red')\n",
    "        print(f'Task {node} is on the critical path')\n",
    "    else: \n",
    "        color_map.append('green')  \n",
    " \n",
    "print(f'The length of the critical path is {max_ef}')\n",
    "\n",
    "with warnings.catch_warnings():\n",
    "    warnings.simplefilter(\"ignore\")\n",
    "    nx.draw(G,\n",
    "            node_color = color_map,\n",
    "            pos=positions, \n",
    "            with_labels = True)"
   ]
  },
  {
   "cell_type": "markdown",
   "metadata": {},
   "source": [
    "The following code block defines a function that accepts a dictionary object in the form that we used early. The function computes and returns the critical path and the project makespan as a tuple. The optional `include_plot` object allows you to generate a plot of the network with nodes on the critical path colored red. "
   ]
  },
  {
   "cell_type": "code",
   "execution_count": 12,
   "metadata": {},
   "outputs": [],
   "source": [
    "def determine_critical_path(data_dictionary, start_time = 0, include_plot = False):\n",
    "    '''\n",
    "    This function compute the critical path and makespan for a specified project. The \n",
    "    function expects a dictionary object (data_dictionary). The dictionary keys should\n",
    "    be the names of the tasks, formatted as strings (even if the names are numeric). The \n",
    "    value for each key should be another dictionary with keys 'pj', 'Predecessors', and \n",
    "    and 'Successors'. The 'pj' value should be a number representing the task duration.\n",
    "    The 'Predecessors' value should be a python list specifying the tasks that precede the\n",
    "    associated task (formatted as strings). The 'Successors' value should be a python list \n",
    "    specifying the tasks that follow the associated task (formatted as strings). An empty list\n",
    "    should be provided for the 'Predecessors'('Successors') value for all tasks that have no \n",
    "    predecessors(successors). An example of a valid dictionary object follows:\n",
    "    \n",
    "    {'1': {'pj': 4, 'Predecessors': [], 'Successors': ['4']},\n",
    "     '2': {'pj': 6, 'Predecessors': [], 'Successors': ['5']},\n",
    "     '3': {'pj': 10, 'Predecessors': [], 'Successors': ['6', '7']},\n",
    "     '4': {'pj': 12, 'Predecessors': ['1'], 'Successors': ['6', '7']},\n",
    "     '5': {'pj': 10, 'Predecessors': ['2'], 'Successors': ['6']},\n",
    "     '6': {'pj': 2, 'Predecessors': ['3', '4', '5'], 'Successors': ['8']},\n",
    "     '7': {'pj': 4, 'Predecessors': ['3', '4'], 'Successors': ['8']},\n",
    "     '8': {'pj': 2, 'Predecessors': ['6', '7'], 'Successors': []}}\n",
    "     \n",
    "     The optional start_time argument specifies the time that the project starts.\n",
    "     The optional include_plot argument should be set to True or False to indicate\n",
    "     whether or not a plot of the project should be drawn. If a plot is drawn, tasks\n",
    "     on the critical path will be colored red. Non-critical tasks will be colored green.   \n",
    "     \n",
    "    \n",
    "    '''\n",
    "    \n",
    "    FP_Remaining_Tasks = list(data_dictionary.keys())\n",
    "\n",
    "    for task in FP_Remaining_Tasks:\n",
    "        if data_dictionary[task]['Predecessors'] == []:\n",
    "            data_dictionary[task]['ES'] = start_time\n",
    "            data_dictionary[task]['EF'] = start_time + data_dictionary[task]['pj']\n",
    "            FP_Remaining_Tasks.remove(task)\n",
    "            \n",
    "    while len(FP_Remaining_Tasks) > 0:\n",
    "        for current_task in FP_Remaining_Tasks:\n",
    "            if len(set(FP_Remaining_Tasks).intersection(set(data_dictionary[current_task]['Predecessors']))) == 0:\n",
    "                FP_Remaining_Tasks.remove(current_task)\n",
    "                break\n",
    "\n",
    "        predecessors = data_dictionary[current_task]['Predecessors']\n",
    "        max_ef = 0\n",
    "        for predecessor in predecessors:\n",
    "            if (data_dictionary[predecessor]['EF'] > max_ef):\n",
    "                max_ef = data_dictionary[predecessor]['EF']\n",
    "        data_dictionary[current_task]['ES'] = max_ef\n",
    "        data_dictionary[current_task]['EF'] = data_dictionary[current_task]['ES'] + data_dictionary[current_task]['pj']\n",
    "        \n",
    "    BP_Remaining_Tasks = list(data_dictionary.keys())\n",
    "    max_ef = 0\n",
    "    for task in BP_Remaining_Tasks:\n",
    "        if data_dictionary[task]['EF'] > max_ef:\n",
    "            max_ef = data_dictionary[task]['EF']\n",
    "\n",
    "    for task in BP_Remaining_Tasks:\n",
    "        if data_dictionary[task]['Successors'] == []:\n",
    "            data_dictionary[task]['LF'] = max_ef\n",
    "            data_dictionary[task]['LS'] = max_ef - data_dictionary[task]['pj']\n",
    "            BP_Remaining_Tasks.remove(task)\n",
    "            \n",
    "    while len(BP_Remaining_Tasks) > 0:\n",
    "        for current_task in BP_Remaining_Tasks:\n",
    "            if len(set(BP_Remaining_Tasks).intersection(set(data_dictionary[current_task]['Successors']))) == 0:\n",
    "                BP_Remaining_Tasks.remove(current_task)\n",
    "                break\n",
    "\n",
    "        successors = data_dictionary[current_task]['Successors']\n",
    "        min_ls = np.inf\n",
    "        for successor in successors:\n",
    "            if (data_dictionary[successor]['LS'] < min_ls):\n",
    "                min_ls = data_dictionary[successor]['LS']\n",
    "        data_dictionary[current_task]['LF'] = min_ls\n",
    "        data_dictionary[current_task]['LS'] = data_dictionary[current_task]['LF'] - data_dictionary[current_task]['pj']\n",
    "        \n",
    "    critical_path = []\n",
    "    for key in data_dictionary:\n",
    "        if data_dictionary[key]['ES'] == data_dictionary[key]['LS']:\n",
    "            critical_path.append(key)\n",
    "    \n",
    "    if include_plot:    \n",
    "        color_map = []\n",
    "        positions = {}\n",
    "        \n",
    "        G = nx.DiGraph()\n",
    "        for task in data_dict.keys():\n",
    "            G.add_node(task, p = data_dict[task]['pj'])\n",
    "\n",
    "        for task in data_dict.keys():\n",
    "            if len(data_dict[task]['Successors']) > 0:\n",
    "                for successor in data_dict[task]['Successors']:\n",
    "                    G.add_edge(task, successor)   \n",
    "\n",
    "        np.random.seed(0)\n",
    "        for node in G.nodes:\n",
    "            positions[node] = np.array([data_dictionary[node]['ES'], np.random.uniform(low=-1.0, high=1.0)])\n",
    "            if data_dictionary[node]['ES'] == data_dictionary[node]['LS']:\n",
    "                color_map.append('red')\n",
    "            else: \n",
    "                color_map.append('green')  \n",
    "\n",
    "        with warnings.catch_warnings():\n",
    "            warnings.simplefilter(\"ignore\")\n",
    "            nx.draw(G,\n",
    "                    node_color = color_map,\n",
    "                    pos=positions, \n",
    "                    with_labels = True)\n",
    "    \n",
    "    return critical_path, max_ef"
   ]
  },
  {
   "cell_type": "markdown",
   "metadata": {},
   "source": [
    "The following code block demonstrates the use of the function with the `include_plot` option set to `True`."
   ]
  },
  {
   "cell_type": "code",
   "execution_count": 13,
   "metadata": {},
   "outputs": [
    {
     "data": {
      "text/plain": [
       "(['1', '4', '7', '8'], 22)"
      ]
     },
     "execution_count": 13,
     "metadata": {},
     "output_type": "execute_result"
    }
   ],
   "source": [
    "determine_critical_path(data_dict, include_plot = False)"
   ]
  },
  {
   "cell_type": "markdown",
   "metadata": {},
   "source": [
    "The following code block demonstrates the use of the function with the `include_plot` option set to `False`."
   ]
  },
  {
   "cell_type": "code",
   "execution_count": 14,
   "metadata": {},
   "outputs": [
    {
     "data": {
      "text/plain": [
       "(['1', '4', '7', '8'], 22)"
      ]
     },
     "execution_count": 14,
     "metadata": {},
     "output_type": "execute_result"
    },
    {
     "data": {
      "image/png": "[encoded data removed]",
      "text/plain": [
       "<Figure size 432x288 with 1 Axes>"
      ]
     },
     "metadata": {},
     "output_type": "display_data"
    }
   ],
   "source": [
    "determine_critical_path(data_dict, include_plot = True)"
   ]
  },
  {
   "cell_type": "markdown",
   "metadata": {},
   "source": [
    "The following code block demonstrate the complete process for preparing data and applying the critical path function to a new dataset with a project start time of 20."
   ]
  },
  {
   "cell_type": "code",
   "execution_count": 15,
   "metadata": {},
   "outputs": [
    {
     "data": {
      "text/plain": [
       "(['B', 'X', 'F', 'S', 'K', 'U'], 66)"
      ]
     },
     "execution_count": 15,
     "metadata": {},
     "output_type": "execute_result"
    },
    {
     "data": {
      "image/png": "[encoded data removed]",
      "text/plain": [
       "<Figure size 432x288 with 1 Axes>"
      ]
     },
     "metadata": {},
     "output_type": "display_data"
    }
   ],
   "source": [
    "data = pd.read_excel('CPM_Example2.xlsx')\n",
    "data = data.set_index('Task')\n",
    "data = data.fillna('-')\n",
    "\n",
    "data_dict = data.to_dict(orient= 'index')\n",
    "\n",
    "for task in data_dict.keys():\n",
    "    for node_group in ['Predecessors','Successors']:\n",
    "        if data_dict[task][node_group] == '-':\n",
    "            data_dict[task][node_group] = []\n",
    "        elif len(str(data_dict[task][node_group]).split(',')) == 1:\n",
    "            data_dict[task][node_group] = [str(data_dict[task][node_group])]\n",
    "        else:\n",
    "            data_dict[task][node_group] = [str(task) for task in data_dict[task][node_group].split(',')]\n",
    "data_dict = {str(key): value for key, value in data_dict.items()}\n",
    "\n",
    "determine_critical_path(data_dict, start_time = 20, include_plot = True)"
   ]
  }
 ],
 "metadata": {
  "kernelspec": {
   "display_name": "Python 3",
   "language": "python",
   "name": "python3"
  },
  "language_info": {
   "codemirror_mode": {
    "name": "ipython",
    "version": 3
   },
   "file_extension": ".py",
   "mimetype": "text/x-python",
   "name": "python",
   "nbconvert_exporter": "python",
   "pygments_lexer": "ipython3",
   "version": "3.7.3"
  }
 },
 "nbformat": 4,
 "nbformat_minor": 2
}
